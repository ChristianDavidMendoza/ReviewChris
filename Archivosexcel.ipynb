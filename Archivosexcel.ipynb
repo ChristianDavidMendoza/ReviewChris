{
 "cells": [
  {
   "cell_type": "code",
   "execution_count": 2,
   "id": "182f7c49",
   "metadata": {},
   "outputs": [],
   "source": [
    "import pandas as pd\n",
    "import numpy as np\n",
    "from datetime import datetime"
   ]
  },
  {
   "cell_type": "code",
   "execution_count": 3,
   "id": "4b2ddf5d",
   "metadata": {},
   "outputs": [
    {
     "name": "stdout",
     "output_type": "stream",
     "text": [
      "Archivo 'encuestas_satisfaccion.xlsx' creado exitosamente\n"
     ]
    }
   ],
   "source": [
    "# Crear un archivo Excel con múltiples hojas\n",
    "with pd.ExcelWriter('datos/encuestas_satisfaccion.xlsx', engine='openpyxl') as writer:\n",
    "    # Hoja 1: Resultados\n",
    "    resultados = pd.DataFrame({\n",
    "        'cliente': ['Tech Corp', 'Finance Ltd', 'Retail SA', 'Energy Co', 'Health Inc'],\n",
    "        'proyecto': ['P001', 'P002', 'P003', 'P004', 'P005'],\n",
    "        'satisfaccion_general': [4.5, 4.2, 4.8, 3.9, 4.6],\n",
    "        'calidad_entrega': [4.6, 4.3, 4.9, 4.0, 4.5],\n",
    "        'comunicacion': [4.4, 4.1, 4.7, 3.8, 4.7],\n",
    "        'valor_precio': [4.5, 4.2, 4.8, 3.9, 4.6],\n",
    "        'fecha_encuesta': pd.date_range('2024-01-01', periods=5, freq='W')\n",
    "    })\n",
    "    resultados.to_excel(writer, sheet_name='Resultados', index=False)\n",
    "\n",
    "    # Hoja 2: Preguntas\n",
    "    preguntas = pd.DataFrame({\n",
    "        'id_pregunta': ['Q1', 'Q2', 'Q3', 'Q4'],\n",
    "        'categoria': ['General', 'Calidad', 'Comunicación', 'Valor'],\n",
    "        'pregunta': [\n",
    "            '¿Qué tan satisfecho está con el proyecto en general?',\n",
    "            '¿Cómo califica la calidad de los entregables?',\n",
    "            '¿Cómo evalúa la comunicación del equipo?',\n",
    "            '¿Considera que recibió valor por su inversión?'\n",
    "        ],\n",
    "        'escala': ['1-5', '1-5', '1-5', '1-5']\n",
    "    })\n",
    "    preguntas.to_excel(writer, sheet_name='Preguntas', index=False)\n",
    "\n",
    "print(\"Archivo 'encuestas_satisfaccion.xlsx' creado exitosamente\")"
   ]
  },
  {
   "cell_type": "code",
   "execution_count": 4,
   "id": "792c76af",
   "metadata": {},
   "outputs": [
    {
     "name": "stdout",
     "output_type": "stream",
     "text": [
      "Primera hoja del archivo:\n",
      "       cliente proyecto  satisfaccion_general  calidad_entrega  comunicacion  \\\n",
      "0    Tech Corp     P001                   4.5              4.6           4.4   \n",
      "1  Finance Ltd     P002                   4.2              4.3           4.1   \n",
      "2    Retail SA     P003                   4.8              4.9           4.7   \n",
      "3    Energy Co     P004                   3.9              4.0           3.8   \n",
      "4   Health Inc     P005                   4.6              4.5           4.7   \n",
      "\n",
      "   valor_precio fecha_encuesta  \n",
      "0           4.5     2024-01-07  \n",
      "1           4.2     2024-01-14  \n",
      "2           4.8     2024-01-21  \n",
      "3           3.9     2024-01-28  \n",
      "4           4.6     2024-02-04  \n"
     ]
    }
   ],
   "source": [
    "# Leer la primera hoja (por defecto)\n",
    "df_resultados = pd.read_excel('datos/encuestas_satisfaccion.xlsx')\n",
    "print(\"Primera hoja del archivo:\")\n",
    "print(df_resultados)"
   ]
  }
 ],
 "metadata": {
  "kernelspec": {
   "display_name": "Python 3",
   "language": "python",
   "name": "python3"
  },
  "language_info": {
   "codemirror_mode": {
    "name": "ipython",
    "version": 3
   },
   "file_extension": ".py",
   "mimetype": "text/x-python",
   "name": "python",
   "nbconvert_exporter": "python",
   "pygments_lexer": "ipython3",
   "version": "3.12.1"
  }
 },
 "nbformat": 4,
 "nbformat_minor": 5
}
