{
 "cells": [
  {
   "cell_type": "code",
   "execution_count": 1,
   "id": "33ed8b6c",
   "metadata": {},
   "outputs": [
    {
     "name": "stdout",
     "output_type": "stream",
     "text": [
      "Requirement already satisfied: pandas in /home/codespace/.local/lib/python3.12/site-packages (2.3.1)\n",
      "Requirement already satisfied: openpyxl in /usr/local/python/3.12.1/lib/python3.12/site-packages (3.1.5)\n",
      "Requirement already satisfied: numpy>=1.26.0 in /home/codespace/.local/lib/python3.12/site-packages (from pandas) (2.3.1)\n",
      "Requirement already satisfied: python-dateutil>=2.8.2 in /home/codespace/.local/lib/python3.12/site-packages (from pandas) (2.9.0.post0)\n",
      "Requirement already satisfied: pytz>=2020.1 in /home/codespace/.local/lib/python3.12/site-packages (from pandas) (2025.2)\n",
      "Requirement already satisfied: tzdata>=2022.7 in /home/codespace/.local/lib/python3.12/site-packages (from pandas) (2025.2)\n",
      "Requirement already satisfied: et-xmlfile in /usr/local/python/3.12.1/lib/python3.12/site-packages (from openpyxl) (2.0.0)\n",
      "Requirement already satisfied: six>=1.5 in /home/codespace/.local/lib/python3.12/site-packages (from python-dateutil>=2.8.2->pandas) (1.17.0)\n",
      "\n",
      "\u001b[1m[\u001b[0m\u001b[34;49mnotice\u001b[0m\u001b[1;39;49m]\u001b[0m\u001b[39;49m A new release of pip is available: \u001b[0m\u001b[31;49m25.1.1\u001b[0m\u001b[39;49m -> \u001b[0m\u001b[32;49m25.2\u001b[0m\n",
      "\u001b[1m[\u001b[0m\u001b[34;49mnotice\u001b[0m\u001b[1;39;49m]\u001b[0m\u001b[39;49m To update, run: \u001b[0m\u001b[32;49mpython -m pip install --upgrade pip\u001b[0m\n",
      "Note: you may need to restart the kernel to use updated packages.\n"
     ]
    }
   ],
   "source": [
    "pip install pandas openpyxl"
   ]
  },
  {
   "cell_type": "code",
   "execution_count": 2,
   "id": "b856f828",
   "metadata": {},
   "outputs": [
    {
     "name": "stdout",
     "output_type": "stream",
     "text": [
      "version pandas: 2.3.1\n",
      "version numpy: 2.3.1\n"
     ]
    }
   ],
   "source": [
    "import pandas as pd\n",
    "import numpy as np\n",
    "\n",
    "print(f\"version pandas: {pd.__version__}\")\n",
    "print(f\"version numpy: {np.__version__}\")"
   ]
  },
  {
   "cell_type": "code",
   "execution_count": 3,
   "id": "c2a78a4a",
   "metadata": {},
   "outputs": [
    {
     "name": "stdout",
     "output_type": "stream",
     "text": [
      "Enero      25000\n",
      "Febrero    27000\n",
      "Marzo      30000\n",
      "Abril      35000\n",
      "Mayo       50000\n",
      "dtype: int64\n"
     ]
    }
   ],
   "source": [
    "# Series de indices personalizado\n",
    "meses = ['Enero', 'Febrero', 'Marzo', 'Abril', 'Mayo']\n",
    "ventas = pd.Series([25000, 27000, 30000, 35000, 50000], index=meses)\n",
    "print(ventas)"
   ]
  },
  {
   "cell_type": "code",
   "execution_count": 10,
   "id": "9aa5ef10",
   "metadata": {},
   "outputs": [
    {
     "name": "stdout",
     "output_type": "stream",
     "text": [
      "Valores: [25000 27000 30000 35000 50000]\n",
      "Indices: Index(['Enero', 'Febrero', 'Marzo', 'Abril', 'Mayo'], dtype='object')\n",
      "Tipo de dato: int64\n",
      "Dimensiones: 1\n",
      "Forma: (5,)\n",
      "Tamaño: 5\n"
     ]
    }
   ],
   "source": [
    "#Explorar atributos y metodos\n",
    "print(f\"Valores: {ventas.values}\")\n",
    "print(f\"Indices: {ventas.index}\")\n",
    "print(f\"Tipo de dato: {ventas.dtype}\")\n",
    "print(f\"Dimensiones: {ventas.ndim}\")\n",
    "print(f\"Forma: {ventas.shape}\")\n",
    "print(f\"Tamaño: {ventas.size}\")\n"
   ]
  },
  {
   "cell_type": "code",
   "execution_count": 17,
   "id": "4625acfb",
   "metadata": {},
   "outputs": [
    {
     "name": "stdout",
     "output_type": "stream",
     "text": [
      "        Cliente  Presupuesto  Duracion_meses  Satisfaccion\n",
      "E001  Empresa A        10000               3           4.5\n",
      "E002  Empresa B        20000               6           4.0\n",
      "E003  Empresa C        15000               4           4.8\n",
      "E004  Empresa D        30000               8           3.9\n"
     ]
    }
   ],
   "source": [
    "proyectos = pd.DataFrame({\n",
    "    'Cliente': ['Empresa A', 'Empresa B', 'Empresa C', 'Empresa D'],\n",
    "    'Presupuesto': [10000, 20000, 15000, 30000],\n",
    "    'Duracion_meses': [3, 6, 4, 8],\n",
    "    'Satisfaccion': [4.5, 4.0, 4.8, 3.9]\n",
    "}, index=['E001', 'E002', 'E003', 'E004'])\n",
    "\n",
    "print(proyectos)"
   ]
  },
  {
   "cell_type": "code",
   "execution_count": 6,
   "id": "bce94214",
   "metadata": {},
   "outputs": [
    {
     "name": "stdout",
     "output_type": "stream",
     "text": [
      "       empresa      sector  facturacion_anual  proyectos_activos  \\\n",
      "0    Tech Corp  Tecnología             250000                  3   \n",
      "1  Finance Ltd    Finanzas             180000                  2   \n",
      "2    Retail SA      Retail             320000                  5   \n",
      "3    Energy Co     Energía             290000                  4   \n",
      "4   Health Inc       Salud             195000                  2   \n",
      "\n",
      "   años_relacion  \n",
      "0              2  \n",
      "1              5  \n",
      "2              1  \n",
      "3              3  \n",
      "4              4  \n"
     ]
    }
   ],
   "source": [
    "#Crear DataFrame con datos clientes \n",
    "clientes = pd.DataFrame({\n",
    "    'empresa': ['Tech Corp', 'Finance Ltd', 'Retail SA', 'Energy Co', 'Health Inc'],\n",
    "    'sector': ['Tecnología', 'Finanzas', 'Retail', 'Energía', 'Salud'],\n",
    "    'facturacion_anual': [250000, 180000, 320000, 290000, 195000],\n",
    "    'proyectos_activos': [3, 2, 5, 4, 2],\n",
    "    'años_relacion': [2, 5, 1, 3, 4]\n",
    "})\n",
    "print(clientes)"
   ]
  },
  {
   "cell_type": "code",
   "execution_count": 7,
   "id": "98929869",
   "metadata": {},
   "outputs": [
    {
     "name": "stdout",
     "output_type": "stream",
     "text": [
      "       empresa      sector  facturacion_anual  proyectos_activos  \\\n",
      "0    Tech Corp  Tecnología             250000                  3   \n",
      "1  Finance Ltd    Finanzas             180000                  2   \n",
      "2    Retail SA      Retail             320000                  5   \n",
      "3    Energy Co     Energía             290000                  4   \n",
      "4   Health Inc       Salud             195000                  2   \n",
      "\n",
      "   años_relacion  facturacion_por_proyecto  \n",
      "0              2              83333.333333  \n",
      "1              5              90000.000000  \n",
      "2              1              64000.000000  \n",
      "3              3              72500.000000  \n",
      "4              4              97500.000000  \n"
     ]
    }
   ],
   "source": [
    "clientes['facturacion_por_proyecto'] = clientes['facturacion_anual']/clientes['proyectos_activos']\n",
    "print(clientes)"
   ]
  },
  {
   "cell_type": "code",
   "execution_count": 8,
   "id": "bed9d53a",
   "metadata": {},
   "outputs": [
    {
     "name": "stdout",
     "output_type": "stream",
     "text": [
      "Análisis de Portafolio de Clientes:\n",
      "\n",
      "       empresa  facturacion_por_proyecto  facturacion_anual    vip\n",
      "0    Tech Corp              83333.333333             250000   True\n",
      "1  Finance Ltd              90000.000000             180000  False\n",
      "2    Retail SA              64000.000000             320000   True\n",
      "3    Energy Co              72500.000000             290000   True\n",
      "4   Health Inc              97500.000000             195000  False\n"
     ]
    }
   ],
   "source": [
    "clientes['vip']=clientes['facturacion_anual']>200000\n",
    "print(\"Análisis de Portafolio de Clientes:\\n\")\n",
    "print(clientes[['empresa','facturacion_por_proyecto','facturacion_anual','vip']])"
   ]
  },
  {
   "cell_type": "code",
   "execution_count": 3,
   "id": "67e332ce",
   "metadata": {},
   "outputs": [
    {
     "name": "stdout",
     "output_type": "stream",
     "text": [
      "DataFrame de Consultores:\n",
      "            nombre departamento  años_exp  tarifa_hora  horas_mes\n",
      "C001     Ana López   Estrategia         5          150        160\n",
      "C002   Carlos Ruiz           TI         3          120        180\n",
      "C003   María Silva     Finanzas         7          180        150\n",
      "C004   Juan Torres   Estrategia         4          140        170\n",
      "C005  Laura García           TI         6          160        165\n"
     ]
    }
   ],
   "source": [
    "# DataFrame de ejemplo: Datos de consultores\n",
    "consultores = pd.DataFrame({\n",
    "    'nombre': ['Ana López', 'Carlos Ruiz', 'María Silva', 'Juan Torres', 'Laura García'],\n",
    "    'departamento': ['Estrategia', 'TI', 'Finanzas', 'Estrategia', 'TI'],\n",
    "    'años_exp': [5, 3, 7, 4, 6],\n",
    "    'tarifa_hora': [150, 120, 180, 140, 160],\n",
    "    'horas_mes': [160, 180, 150, 170, 165]\n",
    "}, index=['C001', 'C002', 'C003', 'C004', 'C005'])\n",
    "\n",
    "print(\"DataFrame de Consultores:\")\n",
    "print(consultores)"
   ]
  },
  {
   "cell_type": "code",
   "execution_count": 4,
   "id": "dd13d408",
   "metadata": {},
   "outputs": [
    {
     "name": "stdout",
     "output_type": "stream",
     "text": [
      "\n",
      "Consultor C003:\n",
      "nombre          María Silva\n",
      "departamento       Finanzas\n",
      "años_exp                  7\n",
      "tarifa_hora             180\n",
      "horas_mes               150\n",
      "Name: C003, dtype: object\n",
      "\n",
      "Consultores C001 y C004:\n",
      "           nombre departamento  años_exp  tarifa_hora  horas_mes\n",
      "C001    Ana López   Estrategia         5          150        160\n",
      "C004  Juan Torres   Estrategia         4          140        170\n",
      "\n",
      "Tarifas de consultores específicos:\n",
      "            nombre  tarifa_hora\n",
      "C001     Ana López          150\n",
      "C003   María Silva          180\n",
      "C005  Laura García          160\n"
     ]
    }
   ],
   "source": [
    "# Una fila específica\n",
    "print(\"\\nConsultor C003:\")\n",
    "print(consultores.loc['C003'])\n",
    "\n",
    "# Múltiples filas\n",
    "print(\"\\nConsultores C001 y C004:\")\n",
    "print(consultores.loc[['C001', 'C004']])\n",
    "\n",
    "# Filas y columnas específicas\n",
    "print(\"\\nTarifas de consultores específicos:\")\n",
    "print(consultores.loc[['C001', 'C003', 'C005'], ['nombre', 'tarifa_hora']])"
   ]
  },
  {
   "cell_type": "code",
   "execution_count": 19,
   "id": "35462848",
   "metadata": {},
   "outputs": [
    {
     "name": "stdout",
     "output_type": "stream",
     "text": [
      "\n",
      "Consultores del departamento de TI:\n",
      "            nombre departamento  años_exp  tarifa_hora  horas_mes\n",
      "C002   Carlos Ruiz           TI         3          120        180\n",
      "C005  Laura García           TI         6          160        165\n"
     ]
    }
   ],
   "source": [
    "ti = consultores[consultores['departamento'] == 'TI']\n",
    "print(\"\\nConsultores del departamento de TI:\")\n",
    "print(ti)"
   ]
  },
  {
   "cell_type": "code",
   "execution_count": 20,
   "id": "861a1058",
   "metadata": {},
   "outputs": [
    {
     "name": "stdout",
     "output_type": "stream",
     "text": [
      "            nombre departamento  años_exp  tarifa_hora  horas_mes\n",
      "C003   María Silva     Finanzas         7          180        150\n",
      "C005  Laura García           TI         6          160        165\n"
     ]
    }
   ],
   "source": [
    "seniors = consultores[consultores['años_exp'] > 5]\n",
    "print(seniors)"
   ]
  },
  {
   "cell_type": "code",
   "execution_count": null,
   "id": "c0ef12cb",
   "metadata": {},
   "outputs": [
    {
     "name": "stdout",
     "output_type": "stream",
     "text": [
      "Consultores con más de 5 años de experiencia y tarifa por hora mayor a 140:\n",
      "           nombre departamento  años_exp  tarifa_hora  horas_mes\n",
      "C003  María Silva     Finanzas         7          180        150\n"
     ]
    }
   ],
   "source": [
    "#El query me permite usar variables con @ y hacer intervalos\n",
    "años=5\n",
    "tarifa=160\n",
    "resultado=consultores.query(\"años_exp>=@años and tarifa_hora>@tarifa\")\n",
    "print(\"Consultores con más de 5 años de experiencia y tarifa por hora mayor a 140:\")\n",
    "print(resultado)"
   ]
  },
  {
   "cell_type": "code",
   "execution_count": null,
   "id": "f62e1bb1",
   "metadata": {},
   "outputs": [
    {
     "name": "stdout",
     "output_type": "stream",
     "text": [
      "\n",
      "Consultores del departamento de TI:\n",
      "           nombre departamento  años_exp  tarifa_hora  horas_mes\n",
      "C001    Ana López   Estrategia         5          150        160\n",
      "C004  Juan Torres   Estrategia         4          140        170\n"
     ]
    }
   ],
   "source": [
    "filtro=['Estrategia'] #Filtro que va directamente a la columna departamento (isin)\n",
    "consultores_ti=consultores[consultores['departamento'].isin(filtro)]\n",
    "print(\"\\nConsultores del departamento de TI:\")\n",
    "print(consultores_ti)"
   ]
  },
  {
   "cell_type": "code",
   "execution_count": 7,
   "id": "d81a28dd",
   "metadata": {},
   "outputs": [
    {
     "name": "stdout",
     "output_type": "stream",
     "text": [
      "\n",
      "Consultores con tarifa incrementada en 10%:\n",
      "            nombre departamento  años_exp  tarifa_hora  horas_mes\n",
      "C001     Ana López   Estrategia         5        165.0        160\n",
      "C002   Carlos Ruiz           TI         3        132.0        180\n",
      "C003   María Silva     Finanzas         7        198.0        150\n",
      "C004   Juan Torres   Estrategia         4        154.0        170\n",
      "C005  Laura García           TI         6        176.0        165\n",
      "\n",
      "consultores original sin cambios:\n",
      "            nombre departamento  años_exp  tarifa_hora  horas_mes\n",
      "C001     Ana López   Estrategia         5          150        160\n",
      "C002   Carlos Ruiz           TI         3          120        180\n",
      "C003   María Silva     Finanzas         7          180        150\n",
      "C004   Juan Torres   Estrategia         4          140        170\n",
      "C005  Laura García           TI         6          160        165\n"
     ]
    }
   ],
   "source": [
    "consultores_copia = consultores.copy()\n",
    "consultores_copia['tarifa_hora'] = consultores_copia['tarifa_hora']*1.1\n",
    "print(\"\\nConsultores con tarifa incrementada en 10%:\")\n",
    "print(consultores_copia)\n",
    "print(\"\\nconsultores original sin cambios:\")\n",
    "print(consultores)"
   ]
  },
  {
   "cell_type": "code",
   "execution_count": 9,
   "id": "043b4d78",
   "metadata": {},
   "outputs": [
    {
     "name": "stdout",
     "output_type": "stream",
     "text": [
      "\n",
      "Consultores con tarifa modificada para C002:\n",
      "            nombre departamento  años_exp  tarifa_hora  horas_mes\n",
      "C001     Ana López   Estrategia         5        165.0        160\n",
      "C002   Carlos Ruiz           TI         3        140.0        180\n",
      "C003   María Silva     Finanzas         7        198.0        150\n",
      "C004   Juan Torres   Estrategia         4        154.0        170\n",
      "C005  Laura García           TI         6        176.0        165\n"
     ]
    }
   ],
   "source": [
    "consultores_copia.loc['C002', 'tarifa_hora'] = 140\n",
    "print(\"\\nConsultores con tarifa modificada para C002:\")\n",
    "print(consultores_copia)"
   ]
  },
  {
   "cell_type": "code",
   "execution_count": 10,
   "id": "06bd46a5",
   "metadata": {},
   "outputs": [
    {
     "name": "stdout",
     "output_type": "stream",
     "text": [
      "\n",
      "Consultores con tarifa incrementada en 5% para el departamento de TI:\n",
      "            nombre departamento  años_exp  tarifa_hora  horas_mes\n",
      "C001     Ana López   Estrategia         5        165.0        160\n",
      "C002   Carlos Ruiz           TI         3        150.0        180\n",
      "C003   María Silva     Finanzas         7        198.0        150\n",
      "C004   Juan Torres   Estrategia         4        154.0        170\n",
      "C005  Laura García           TI         6        186.0        165\n"
     ]
    }
   ],
   "source": [
    "consultores_copia.loc[consultores_copia['departamento'] == 'TI', 'tarifa_hora'] += 10\n",
    "print(\"\\nConsultores con tarifa incrementada en 5% para el departamento de TI:\")\n",
    "print(consultores_copia)"
   ]
  },
  {
   "cell_type": "code",
   "execution_count": 14,
   "id": "dff5e508",
   "metadata": {},
   "outputs": [
    {
     "name": "stdout",
     "output_type": "stream",
     "text": [
      "            nombre departamento  años_exp  tarifa_hora  horas_mes        nivel\n",
      "C001     Ana López   Estrategia         5        165.0        160  Semi-Senior\n",
      "C002   Carlos Ruiz           TI         3        150.0        180       Junior\n",
      "C003   María Silva     Finanzas         7        198.0        150       Senior\n",
      "C004   Juan Torres   Estrategia         4        154.0        170  Semi-Senior\n",
      "C005  Laura García           TI         6        186.0        165       Senior\n"
     ]
    }
   ],
   "source": [
    "consultores_copia['nivel']='Junior'\n",
    "consultores_copia.loc[consultores_copia['años_exp']>3,'nivel']='Semi-Senior'\n",
    "consultores_copia.loc[consultores_copia['años_exp']>5,'nivel']='Senior'\n",
    "print(consultores_copia)"
   ]
  },
  {
   "cell_type": "code",
   "execution_count": 15,
   "id": "3bd241d0",
   "metadata": {},
   "outputs": [
    {
     "name": "stdout",
     "output_type": "stream",
     "text": [
      "            nombre departamento  años_exp  tarifa_hora  horas_mes  \\\n",
      "C001     Ana López   Estrategia         5        165.0        160   \n",
      "C002   Carlos Ruiz           TI         3        150.0        180   \n",
      "C003   María Silva     Finanzas         7        198.0        150   \n",
      "C004   Juan Torres   Estrategia         4        154.0        170   \n",
      "C005  Laura García           TI         6        186.0        165   \n",
      "\n",
      "            nivel  ingresos_mensuales  \n",
      "C001  Semi-Senior             26400.0  \n",
      "C002       Junior             27000.0  \n",
      "C003       Senior             29700.0  \n",
      "C004  Semi-Senior             26180.0  \n",
      "C005       Senior             30690.0  \n"
     ]
    }
   ],
   "source": [
    "consultores_copia['ingresos_mensuales'] = consultores_copia['tarifa_hora']*consultores_copia['horas_mes']\n",
    "print(consultores_copia)"
   ]
  },
  {
   "cell_type": "code",
   "execution_count": 16,
   "id": "e6aecb29",
   "metadata": {},
   "outputs": [
    {
     "name": "stdout",
     "output_type": "stream",
     "text": [
      "\n",
      "Estrategia:\n",
      "  Consultores: 2\n",
      "  Tarifa promedio: $145.00\n",
      "  Experiencia promedio: 4.5 años\n",
      "\n",
      "TI:\n",
      "  Consultores: 2\n",
      "  Tarifa promedio: $140.00\n",
      "  Experiencia promedio: 4.5 años\n",
      "\n",
      "Finanzas:\n",
      "  Consultores: 1\n",
      "  Tarifa promedio: $180.00\n",
      "  Experiencia promedio: 7.0 años\n"
     ]
    }
   ],
   "source": [
    "# Agrupar por departamento y mostrar estadísticas\n",
    "for dept in consultores['departamento'].unique():\n",
    "    equipo = consultores[consultores['departamento'] == dept]\n",
    "    print(f\"\\n{dept}:\")\n",
    "    print(f\"  Consultores: {len(equipo)}\")\n",
    "    print(f\"  Tarifa promedio: ${equipo['tarifa_hora'].mean():.2f}\")\n",
    "    print(f\"  Experiencia promedio: {equipo['años_exp'].mean():.1f} años\")"
   ]
  }
 ],
 "metadata": {
  "kernelspec": {
   "display_name": "Python 3",
   "language": "python",
   "name": "python3"
  },
  "language_info": {
   "codemirror_mode": {
    "name": "ipython",
    "version": 3
   },
   "file_extension": ".py",
   "mimetype": "text/x-python",
   "name": "python",
   "nbconvert_exporter": "python",
   "pygments_lexer": "ipython3",
   "version": "3.12.1"
  }
 },
 "nbformat": 4,
 "nbformat_minor": 5
}
