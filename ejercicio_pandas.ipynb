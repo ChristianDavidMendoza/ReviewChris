{
 "cells": [
  {
   "cell_type": "code",
   "execution_count": 4,
   "id": "45baee98",
   "metadata": {},
   "outputs": [
    {
     "name": "stdout",
     "output_type": "stream",
     "text": [
      "Requirement already satisfied: pandas in /home/codespace/.local/lib/python3.12/site-packages (2.3.1)\n",
      "Requirement already satisfied: openpyxl in /usr/local/python/3.12.1/lib/python3.12/site-packages (3.1.5)\n",
      "Requirement already satisfied: numpy>=1.26.0 in /home/codespace/.local/lib/python3.12/site-packages (from pandas) (2.3.1)\n",
      "Requirement already satisfied: python-dateutil>=2.8.2 in /home/codespace/.local/lib/python3.12/site-packages (from pandas) (2.9.0.post0)\n",
      "Requirement already satisfied: pytz>=2020.1 in /home/codespace/.local/lib/python3.12/site-packages (from pandas) (2025.2)\n",
      "Requirement already satisfied: tzdata>=2022.7 in /home/codespace/.local/lib/python3.12/site-packages (from pandas) (2025.2)\n",
      "Requirement already satisfied: et-xmlfile in /usr/local/python/3.12.1/lib/python3.12/site-packages (from openpyxl) (2.0.0)\n",
      "Requirement already satisfied: six>=1.5 in /home/codespace/.local/lib/python3.12/site-packages (from python-dateutil>=2.8.2->pandas) (1.17.0)\n",
      "\n",
      "\u001b[1m[\u001b[0m\u001b[34;49mnotice\u001b[0m\u001b[1;39;49m]\u001b[0m\u001b[39;49m A new release of pip is available: \u001b[0m\u001b[31;49m25.1.1\u001b[0m\u001b[39;49m -> \u001b[0m\u001b[32;49m25.2\u001b[0m\n",
      "\u001b[1m[\u001b[0m\u001b[34;49mnotice\u001b[0m\u001b[1;39;49m]\u001b[0m\u001b[39;49m To update, run: \u001b[0m\u001b[32;49mpython -m pip install --upgrade pip\u001b[0m\n",
      "Note: you may need to restart the kernel to use updated packages.\n"
     ]
    }
   ],
   "source": [
    "pip install pandas openpyxl\n"
   ]
  },
  {
   "cell_type": "code",
   "execution_count": 6,
   "id": "23732d4d",
   "metadata": {},
   "outputs": [],
   "source": [
    "import pandas as pd\n",
    "import numpy as np"
   ]
  },
  {
   "cell_type": "code",
   "execution_count": 7,
   "id": "d5c540de",
   "metadata": {},
   "outputs": [
    {
     "name": "stdout",
     "output_type": "stream",
     "text": [
      "Proyectos:\n",
      "  codigo      cliente consultor_lead  presupuesto       estado\n",
      "0   P001    Tech Corp           C001        75000       Activo\n",
      "1   P002  Finance Ltd           C003       120000   Completado\n",
      "2   P003    Retail SA           C002        45000       Activo\n",
      "3   P004    Tech Corp           C004        95000       Activo\n",
      "4   P005    Energy Co           C005       150000  Planificado\n"
     ]
    }
   ],
   "source": [
    "#Ejercicio integrador\n",
    "proyectos = pd.DataFrame({\n",
    "    'codigo': ['P001', 'P002', 'P003', 'P004', 'P005'],\n",
    "    'cliente': ['Tech Corp', 'Finance Ltd', 'Retail SA', 'Tech Corp', 'Energy Co'],\n",
    "    'consultor_lead': ['C001', 'C003', 'C002', 'C004', 'C005'],\n",
    "    'presupuesto': [75000, 120000, 45000, 95000, 150000],\n",
    "    'estado': ['Activo', 'Completado', 'Activo', 'Activo', 'Planificado']\n",
    "})\n",
    "print(\"Proyectos:\")\n",
    "print(proyectos)"
   ]
  },
  {
   "cell_type": "code",
   "execution_count": 10,
   "id": "e499d0e6",
   "metadata": {},
   "outputs": [
    {
     "name": "stdout",
     "output_type": "stream",
     "text": [
      "\n",
      "Proyectos activos:\n",
      "  codigo    cliente consultor_lead  presupuesto  estado\n",
      "0   P001  Tech Corp           C001        75000  Activo\n",
      "2   P003  Retail SA           C002        45000  Activo\n",
      "3   P004  Tech Corp           C004        95000  Activo\n"
     ]
    }
   ],
   "source": [
    "activos = proyectos[proyectos['estado'] == 'Activo']\n",
    "print(\"\\nProyectos activos:\")\n",
    "print(activos)"
   ]
  },
  {
   "cell_type": "code",
   "execution_count": 11,
   "id": "118b92be",
   "metadata": {},
   "outputs": [
    {
     "name": "stdout",
     "output_type": "stream",
     "text": [
      "\n",
      "Proyectos de Tech Corp con presupuesto mayor a 80000:\n",
      "  codigo    cliente consultor_lead  presupuesto  estado\n",
      "3   P004  Tech Corp           C004        95000  Activo\n"
     ]
    }
   ],
   "source": [
    "proyectos_tech = proyectos[(proyectos['cliente'] == 'Tech Corp') & (proyectos['presupuesto'] > 80000)]\n",
    "print(\"\\nProyectos de Tech Corp con presupuesto mayor a 80000:\")\n",
    "print(proyectos_tech)"
   ]
  },
  {
   "cell_type": "code",
   "execution_count": null,
   "id": "7edb8218",
   "metadata": {},
   "outputs": [],
   "source": []
  }
 ],
 "metadata": {
  "kernelspec": {
   "display_name": "Python 3",
   "language": "python",
   "name": "python3"
  },
  "language_info": {
   "codemirror_mode": {
    "name": "ipython",
    "version": 3
   },
   "file_extension": ".py",
   "mimetype": "text/x-python",
   "name": "python",
   "nbconvert_exporter": "python",
   "pygments_lexer": "ipython3",
   "version": "3.12.1"
  }
 },
 "nbformat": 4,
 "nbformat_minor": 5
}
