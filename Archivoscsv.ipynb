{
 "cells": [
  {
   "cell_type": "code",
   "execution_count": null,
   "id": "cdee3368",
   "metadata": {},
   "outputs": [],
   "source": [
    "import pandas as pd\n",
    "import numpy as np\n"
   ]
  },
  {
   "cell_type": "code",
   "execution_count": null,
   "id": "10d15202",
   "metadata": {},
   "outputs": [],
   "source": [
    "import pandas as pd\n",
    "import os\n",
    "\n",
    "# Crear directorio si no existe\n",
    "os.makedirs('datos', exist_ok=True)\n",
    "\n",
    "# Crear archivo CSV de ventas\n",
    "ventas_csv = \"\"\"fecha,cliente,producto,cantidad,precio_unitario,total\n",
    "2024-01-15,Empresa A,Consultoría,40,150,6000\n",
    "2024-01-16,Empresa B,Análisis,20,200,4000\n",
    "2024-01-17,Empresa C,Desarrollo,60,180,10800\n",
    "2024-01-18,Empresa A,Consultoría,30,150,4500\n",
    "2024-01-19,Empresa D,Análisis,25,200,5000\"\"\"\n",
    "\n",
    "with open('datos/ventas.csv', 'w', encoding='utf-8') as f:\n",
    "    f.write(ventas_csv)"
   ]
  },
  {
   "cell_type": "code",
   "execution_count": null,
   "id": "7aaab900",
   "metadata": {},
   "outputs": [
    {
     "name": "stdout",
     "output_type": "stream",
     "text": [
      "Dataframe de ventas:\n",
      "        fecha    cliente     producto  cantidad  precio_unitario  total\n",
      "0  2024-01-15  Empresa A  Consultoría        40              150   6000\n",
      "1  2024-01-16  Empresa B     Análisis        20              200   4000\n",
      "2  2024-01-17  Empresa C   Desarrollo        60              180  10800\n",
      "3  2024-01-18  Empresa A  Consultoría        30              150   4500\n",
      "4  2024-01-19  Empresa D     Análisis        25              200   5000\n"
     ]
    }
   ],
   "source": [
    "df_ventas=pd.read_csv('datos/ventas.csv')\n",
    "print(\"Dataframe de ventas:\")\n",
    "print(df_ventas)\n"
   ]
  },
  {
   "cell_type": "code",
   "execution_count": 14,
   "id": "a6ff55b1",
   "metadata": {},
   "outputs": [
    {
     "name": "stdout",
     "output_type": "stream",
     "text": [
      "fecha              object\n",
      "cliente            object\n",
      "producto           object\n",
      "cantidad            int64\n",
      "precio_unitario     int64\n",
      "total               int64\n",
      "dtype: object\n"
     ]
    }
   ],
   "source": [
    "print(df_ventas.dtypes)"
   ]
  },
  {
   "cell_type": "code",
   "execution_count": 17,
   "id": "6caf5f7f",
   "metadata": {},
   "outputs": [
    {
     "name": "stdout",
     "output_type": "stream",
     "text": [
      "\n",
      "Tipos de datos:\n",
      "fecha              datetime64[ns]\n",
      "cliente            string[python]\n",
      "producto           string[python]\n",
      "cantidad                    int32\n",
      "precio_unitario           float32\n",
      "total                     float32\n",
      "dtype: object\n"
     ]
    }
   ],
   "source": [
    "dtypes = {\n",
    "    'cliente': 'string',\n",
    "    'producto': 'string',\n",
    "    'cantidad': 'int32',\n",
    "    'precio_unitario': 'float32',\n",
    "    'total': 'float32'\n",
    "}\n",
    "\n",
    "df_ventas_typed = pd.read_csv('datos/ventas.csv', dtype=dtypes, parse_dates=['fecha'])\n",
    "print(\"\\nTipos de datos:\")\n",
    "print(df_ventas_typed.dtypes)"
   ]
  },
  {
   "cell_type": "code",
   "execution_count": 21,
   "id": "a846e60d",
   "metadata": {},
   "outputs": [
    {
     "name": "stdout",
     "output_type": "stream",
     "text": [
      "      consultor  semana1  semana2  semana3  semana4  total\n",
      "0    Ana García       40       38       42       40    160\n",
      "1  Carlos López       45       40       43       42    170\n",
      "2  María Torres       38       40       39       38    155\n"
     ]
    }
   ],
   "source": [
    "# CSV con información adicional en las primeras líneas\n",
    "reporte_csv = \"\"\"Reporte de Horas Facturables\n",
    "Generado: 2024-01-20\n",
    "Período: Enero 2024\n",
    "\n",
    "consultor,semana1,semana2,semana3,semana4,total\n",
    "Ana García,40,38,42,40,160\n",
    "Carlos López,45,40,43,42,170\n",
    "María Torres,38,40,39,38,155\"\"\"\n",
    "\n",
    "with open('datos/reporte_horas.csv', 'w', encoding='utf-8') as f:\n",
    "    f.write(reporte_csv)\n",
    "\n",
    "df_horas = pd.read_csv(\n",
    "    'datos/reporte_horas.csv',\n",
    "    skiprows=4 #Para saltar las primeras 4 líneas\n",
    ")\n",
    "\n",
    "print(df_horas)"
   ]
  },
  {
   "cell_type": "code",
   "execution_count": 19,
   "id": "6dab5cde",
   "metadata": {},
   "outputs": [
    {
     "name": "stdout",
     "output_type": "stream",
     "text": [
      "\n",
      "DataFrame de Empleados con delimitador ; :\n",
      "  id_empleado        nombre departamento  salario fecha_contratacion\n",
      "0        E001    Ana García  Consultoría    45000         2021-03-15\n",
      "1        E002  Carlos López     Análisis    50000         2020-07-01\n",
      "2        E003  María Torres  Consultoría    48000         2021-01-20\n",
      "3        E004    Juan Pérez   Desarrollo    55000         2019-11-10\n",
      "4        E005    Laura Ruiz     Análisis    52000         2020-09-05\n"
     ]
    }
   ],
   "source": [
    "# Archivo con punto y coma\n",
    "empleados_csv = \"\"\"id_empleado;nombre;departamento;salario;fecha_contratacion\n",
    "E001;Ana García;Consultoría;45000;2021-03-15\n",
    "E002;Carlos López;Análisis;50000;2020-07-01\n",
    "E003;María Torres;Consultoría;48000;2021-01-20\n",
    "E004;Juan Pérez;Desarrollo;55000;2019-11-10\n",
    "E005;Laura Ruiz;Análisis;52000;2020-09-05\"\"\"\n",
    "\n",
    "with open('datos/empleados.csv', 'w', encoding='utf-8') as f:\n",
    "    f.write(empleados_csv)\n",
    "\n",
    "df_empleados=  pd.read_csv(\n",
    "\n",
    "    'datos/empleados.csv',\n",
    "    sep=';',\n",
    "    parse_dates=['fecha_contratacion'],\n",
    ") #Archivo con delimitador ;\n",
    "print(\"\\nDataFrame de Empleados con delimitador ; :\")\n",
    "print(df_empleados)"
   ]
  },
  {
   "cell_type": "code",
   "execution_count": 22,
   "id": "142e5932",
   "metadata": {},
   "outputs": [],
   "source": [
    "resumen_mensual = pd.DataFrame({\n",
    "    'mes': ['Enero', 'Febrero', 'Marzo'],\n",
    "    'ingresos': [250000, 280000, 310000],\n",
    "    'gastos': [180000, 195000, 205000],\n",
    "    'utilidad': [70000, 85000, 105000]\n",
    "})\n"
   ]
  },
  {
   "cell_type": "code",
   "execution_count": 23,
   "id": "7457addd",
   "metadata": {},
   "outputs": [],
   "source": [
    "resumen_mensual.to_csv('datos/resumen_mensual.csv', index=False,encoding='utf-8')"
   ]
  }
 ],
 "metadata": {
  "kernelspec": {
   "display_name": "Python 3",
   "language": "python",
   "name": "python3"
  },
  "language_info": {
   "codemirror_mode": {
    "name": "ipython",
    "version": 3
   },
   "file_extension": ".py",
   "mimetype": "text/x-python",
   "name": "python",
   "nbconvert_exporter": "python",
   "pygments_lexer": "ipython3",
   "version": "3.12.1"
  }
 },
 "nbformat": 4,
 "nbformat_minor": 5
}
